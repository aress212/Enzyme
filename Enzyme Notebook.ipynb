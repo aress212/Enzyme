{
 "metadata": {
  "signature": "sha256:5c5bf97300107839d74199bfc8a8fe171175a696c7aa277951bdb2762ca4642e"
 },
 "nbformat": 3,
 "nbformat_minor": 0,
 "worksheets": [
  {
   "cells": [
    {
     "cell_type": "code",
     "collapsed": false,
     "input": [
      "import io\n",
      "import os\n",
      "import sys\n",
      "import types\n",
      "import matplotlib.pyplot as p\n",
      "from IPython.nbformat import current\n",
      "from IPython.core.interactiveshell import InteractiveShell"
     ],
     "language": "python",
     "metadata": {},
     "outputs": [],
     "prompt_number": 8
    },
    {
     "cell_type": "code",
     "collapsed": false,
     "input": [
      "import tellurium as te"
     ],
     "language": "python",
     "metadata": {},
     "outputs": [],
     "prompt_number": 9
    },
    {
     "cell_type": "code",
     "collapsed": false,
     "input": [
      "import notebooktools as nb\n",
      "import numpy as np"
     ],
     "language": "python",
     "metadata": {},
     "outputs": [],
     "prompt_number": 10
    },
    {
     "cell_type": "code",
     "collapsed": false,
     "input": [
      "EnzymeInhibition = '''\n",
      "      // model pathway()\n",
      "      // Reactions\n",
      "// Externals\n",
      "\n",
      "$External_S -> S; k_ext_S\n",
      "\n",
      "J1: E + S -> ES; J1_k*E*S \n",
      "\n",
      "J2: ES -> E + S; J2_k*ES \n",
      "\n",
      "J3: ES -> E + P; J3_k*ES \n",
      "\n",
      "J4: P -> ; J4_k*P \n",
      "\n",
      "J5: S -> ; J5_k*S\n",
      "\n",
      "// J6: E + I -> EI; J1_k*E*I\n",
      "\n",
      "// J7: EI -> E + I; J2_k*EI\n",
      "\n",
      "// J8: I -> ; J5_k*I\n",
      "\n",
      "// Initial concentrations\n",
      "\n",
      "E = 1; \n",
      "\n",
      "S = 0; \n",
      "\n",
      "ES = 0; \n",
      "\n",
      "// Kinetic constants \n",
      "\n",
      "J1_k = 15 \n",
      "\n",
      "J2_k = 5 \n",
      "\n",
      "J3_k = 5 \n",
      "\n",
      "J4_k = 1.9 \n",
      "\n",
      "J5_k = 4\n",
      "    '''\n",
      "r = te.loadAntimonyModel(EnzymeInhibition)\n",
      "\n",
      "r.model.k_ext_S = 10 \n",
      "\n",
      "model = r.simulate(0, 5, 100, ['time', 'E', 'ES', 'P']) \n",
      "\n",
      "te.plotArray(model)\n",
      "\n"
     ],
     "language": "python",
     "metadata": {},
     "outputs": [
      {
       "metadata": {},
       "output_type": "display_data",
       "png": "[encoded data removed]",
       "text": [
        "<matplotlib.figure.Figure at 0x3315690>"
       ]
      },
      {
       "metadata": {},
       "output_type": "pyout",
       "prompt_number": 24,
       "text": [
        "[<matplotlib.lines.Line2D at 0x32c3110>,\n",
        " <matplotlib.lines.Line2D at 0x32c3390>,\n",
        " <matplotlib.lines.Line2D at 0x32c35d0>]"
       ]
      }
     ],
     "prompt_number": 24
    },
    {
     "cell_type": "code",
     "collapsed": false,
     "input": [],
     "language": "python",
     "metadata": {},
     "outputs": [],
     "prompt_number": 20
    },
    {
     "cell_type": "code",
     "collapsed": false,
     "input": [],
     "language": "python",
     "metadata": {},
     "outputs": [],
     "prompt_number": 20
    },
    {
     "cell_type": "code",
     "collapsed": false,
     "input": [],
     "language": "python",
     "metadata": {},
     "outputs": [],
     "prompt_number": 20
    },
    {
     "cell_type": "code",
     "collapsed": false,
     "input": [],
     "language": "python",
     "metadata": {},
     "outputs": [],
     "prompt_number": 20
    },
    {
     "cell_type": "code",
     "collapsed": false,
     "input": [],
     "language": "python",
     "metadata": {},
     "outputs": []
    }
   ],
   "metadata": {}
  }
 ]
}