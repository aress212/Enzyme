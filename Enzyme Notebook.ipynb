{"metadata":{},"nbformat":3,"nbformat_minor":0,"worksheets":[{"cells":[],"metadata":{}}]}

from IPython.html.widgets import interact
    from IPython.html import widgets
    import tellurium as te
    import sys

    if paramIds is None:
        paramIds = r.model.getGlobalParameterIds()
    paramMap = {}

    def runSim(start=0, stop=100, steps=100, **paramMap):
        r.reset()
        for k, v in paramMap.items():
            try:
                key = k.encode('ascii', 'ignore')
                r[key] = v
            except:
                # error in setting model variable
                e = sys.exc_info()
                print e

        try:
            s = r.simulate(start, stop, steps)
            te.plotArray(s)
        except:
            # error in simulation
            e = sys.exc_info()
            print e

    for i, id in enumerate(paramIds):
        val = r[id]
        try:
            r[id] = val
            paramMap[id] = widgets.FloatSliderWidget(
                min=minFactor*val,
                max=maxFactor*val,
                step=val/sliderStepFactor,
                value=val)
        except:
            e = sys.exc_info()
            print e

    interact(runSim,
             start=widgets.FloatTextWidget(min=0, value=0),
             stop=widgets.FloatTextWidget(min=0, value=100),
             steps=widgets.IntTextWidget(min=0, value=100),
             **paramMap
             )