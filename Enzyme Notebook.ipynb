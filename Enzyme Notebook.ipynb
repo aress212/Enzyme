{"metadata":{},"nbformat":3,"nbformat_minor":0,"worksheets":[{"cells":[],"metadata":{}}]}

model = r.simulate(0, 5, 100, ['time', 'S', 'I', 'P', 'ES', 'EI', 'EIS'])
te.plotWithLegend(r, numpy.vstack (model))
